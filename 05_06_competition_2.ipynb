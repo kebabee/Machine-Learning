{
  "nbformat": 4,
  "nbformat_minor": 0,
  "metadata": {
    "colab": {
      "provenance": [],
      "authorship_tag": "ABX9TyM5C5BTjftFbI8A6Vz1Llb7",
      "include_colab_link": true
    },
    "kernelspec": {
      "name": "python3",
      "display_name": "Python 3"
    },
    "language_info": {
      "name": "python"
    }
  },
  "cells": [
    {
      "cell_type": "markdown",
      "metadata": {
        "id": "view-in-github",
        "colab_type": "text"
      },
      "source": [
        "<a href=\"https://colab.research.google.com/github/kebabee/Machine-Learning/blob/main/05_06_competition_2.ipynb\" target=\"_parent\"><img src=\"https://colab.research.google.com/assets/colab-badge.svg\" alt=\"Open In Colab\"/></a>"
      ]
    },
    {
      "cell_type": "code",
      "execution_count": null,
      "metadata": {
        "colab": {
          "base_uri": "https://localhost:8080/"
        },
        "id": "f6QMHJM5sNvC",
        "outputId": "d626329d-3cb1-4548-e8f3-4534225ff000"
      },
      "outputs": [
        {
          "output_type": "stream",
          "name": "stdout",
          "text": [
            "Downloading data from https://www.cs.toronto.edu/~kriz/cifar-100-python.tar.gz\n",
            "169001437/169001437 [==============================] - 4s 0us/step\n",
            "196/196 [==============================] - 55s 276ms/step - loss: 4.2294 - accuracy: 0.0737\n",
            "313/313 [==============================] - 4s 13ms/step - loss: 3.9372 - accuracy: 0.1217\n",
            "0.1216999962925911\n"
          ]
        }
      ],
      "source": [
        "import keras\n",
        "keras.datasets.cifar100.load_data(label_mode=\"fine\")\n",
        "(x_train, y_train), (x_test, y_test) = keras.datasets.cifar100.load_data()\n",
        "assert x_train.shape == (50000, 32, 32, 3)\n",
        "assert x_test.shape == (10000, 32, 32, 3)\n",
        "assert y_train.shape == (50000, 1)\n",
        "assert y_test.shape == (10000, 1)\n",
        "\n",
        "\n",
        "from keras.models import Sequential\n",
        "from keras.layers import Conv2D\n",
        "from keras.layers import MaxPooling2D, Flatten\n",
        "from keras.layers import Dense\n",
        "from keras.utils import to_categorical\n",
        "\n",
        "y_train = to_categorical(y_train, 100)\n",
        "y_test = to_categorical(y_test, 100)\n",
        "\n",
        "x_train = x_train.astype('float32') / 255\n",
        "x_test = x_test.astype('float32') / 255\n",
        "\n",
        "model = Sequential()\n",
        "\n",
        "model.add(Conv2D(32, (3, 3), activation='relu', input_shape=(32, 32, 3)))\n",
        "model.add(MaxPooling2D((2, 2)))\n",
        "model.add(Conv2D(64, (3, 3), activation='relu'))\n",
        "model.add(Flatten())\n",
        "\n",
        "model.add(Dense(64, activation='sigmoid'))\n",
        "model.add(Dense(100, activation='softmax'))\n",
        "\n",
        "model.compile(optimizer='adam', loss='categorical_crossentropy',metrics=['accuracy'])\n",
        "model.fit(x_train, y_train, epochs=1, batch_size=256)\n",
        "\n",
        "test_loss, test_acc = model.evaluate(x_test, y_test)\n",
        "print(test_acc)"
      ]
    },
    {
      "cell_type": "code",
      "source": [
        "import keras\n",
        "keras.datasets.cifar100.load_data(label_mode=\"fine\")\n",
        "(x_train, y_train), (x_test, y_test) = keras.datasets.cifar100.load_data()\n",
        "assert x_train.shape == (50000, 32, 32, 3)\n",
        "assert x_test.shape == (10000, 32, 32, 3)\n",
        "assert y_train.shape == (50000, 1)\n",
        "assert y_test.shape == (10000, 1)\n",
        "\n",
        "\n",
        "from keras.models import Sequential\n",
        "from keras.layers import Conv2D\n",
        "from keras.layers import MaxPooling2D, Flatten\n",
        "from keras.layers import Dense\n",
        "from keras.utils import to_categorical\n",
        "\n",
        "y_train = to_categorical(y_train, 100)\n",
        "y_test = to_categorical(y_test, 100)\n",
        "\n",
        "x_train = x_train.astype('float32') / 255\n",
        "x_test = x_test.astype('float32') / 255\n",
        "\n",
        "model2 = Sequential()\n",
        "\n",
        "model2.add(Conv2D(32, (3, 3), activation='relu', input_shape=(32, 32, 3)))\n",
        "model2.add(MaxPooling2D((2, 2)))\n",
        "model2.add(Conv2D(64, (3, 3), activation='relu'))\n",
        "model2.add(Flatten())\n",
        "\n",
        "model2.add(Dense(64, activation='relu'))\n",
        "model2.add(Dense(128, activation='relu'))\n",
        "model2.add(Dense(100, activation='softmax'))\n",
        "\n",
        "model2.compile(optimizer='adam', loss='categorical_crossentropy',metrics=['accuracy'])\n",
        "model2.fit(x_train, y_train, epochs=2, batch_size=256)\n",
        "\n",
        "test_loss, test_acc = model2.evaluate(x_test, y_test)\n",
        "print(test_acc)"
      ],
      "metadata": {
        "colab": {
          "base_uri": "https://localhost:8080/"
        },
        "id": "Ln25zNLpszAu",
        "outputId": "84edb067-206a-4cc4-ae73-ef84cfef085b"
      },
      "execution_count": null,
      "outputs": [
        {
          "output_type": "stream",
          "name": "stdout",
          "text": [
            "Epoch 1/2\n",
            "196/196 [==============================] - 55s 275ms/step - loss: 4.0785 - accuracy: 0.0820\n",
            "Epoch 2/2\n",
            "196/196 [==============================] - 55s 280ms/step - loss: 3.4097 - accuracy: 0.1840\n",
            "313/313 [==============================] - 6s 18ms/step - loss: 3.9372 - accuracy: 0.1217\n",
            "0.1216999962925911\n"
          ]
        }
      ]
    },
    {
      "cell_type": "code",
      "source": [
        "test_loss, test_acc = model2.evaluate(x_test, y_test)\n",
        "print(test_acc)"
      ],
      "metadata": {
        "colab": {
          "base_uri": "https://localhost:8080/"
        },
        "id": "d3fzKFc4uND3",
        "outputId": "5af0b2bc-1e81-4cf6-c34c-708dfb58260f"
      },
      "execution_count": null,
      "outputs": [
        {
          "output_type": "stream",
          "name": "stdout",
          "text": [
            "313/313 [==============================] - 5s 15ms/step - loss: 3.3022 - accuracy: 0.2031\n",
            "0.20309999585151672\n"
          ]
        }
      ]
    },
    {
      "cell_type": "code",
      "source": [
        "import keras\n",
        "keras.datasets.cifar100.load_data(label_mode=\"fine\")\n",
        "(x_train, y_train), (x_test, y_test) = keras.datasets.cifar100.load_data()\n",
        "assert x_train.shape == (50000, 32, 32, 3)\n",
        "assert x_test.shape == (10000, 32, 32, 3)\n",
        "assert y_train.shape == (50000, 1)\n",
        "assert y_test.shape == (10000, 1)\n",
        "\n",
        "\n",
        "from keras.models import Sequential\n",
        "from keras.layers import Conv2D, Dropout\n",
        "from keras.layers import MaxPooling2D, Flatten\n",
        "from keras.layers import Dense\n",
        "from keras.utils import to_categorical\n",
        "\n",
        "y_train = to_categorical(y_train, 100)\n",
        "y_test = to_categorical(y_test, 100)\n",
        "\n",
        "x_train = x_train.astype('float32') / 255\n",
        "x_test = x_test.astype('float32') / 255\n",
        "\n",
        "model3 = Sequential()\n",
        "\n",
        "model3.add(Conv2D(32, (3, 3), activation='relu', input_shape=(32, 32, 3)))\n",
        "model3.add(MaxPooling2D((2, 2)))\n",
        "model3.add(Conv2D(64, (3, 3), activation='relu'))\n",
        "model3.add(Flatten())\n",
        "\n",
        "model3.add(Dense(64, activation='relu'))\n",
        "model3.add(Dropout(0.2))\n",
        "model3.add(Dense(128, activation='relu'))\n",
        "model3.add(Dense(100, activation='softmax'))\n",
        "\n",
        "model3.compile(optimizer='adam', loss='categorical_crossentropy',metrics=['accuracy'])\n",
        "model3.fit(x_train, y_train, epochs=3, batch_size=256)\n",
        "\n",
        "test_loss, test_acc = model3.evaluate(x_test, y_test)\n",
        "print(test_acc)"
      ],
      "metadata": {
        "colab": {
          "base_uri": "https://localhost:8080/"
        },
        "id": "g4qlp8tBtg3B",
        "outputId": "b7c4489a-f2e0-4ffe-c371-1f96c1182ac0"
      },
      "execution_count": null,
      "outputs": [
        {
          "output_type": "stream",
          "name": "stdout",
          "text": [
            "Epoch 1/3\n",
            "196/196 [==============================] - 52s 262ms/step - loss: 4.2471 - accuracy: 0.0505\n",
            "Epoch 2/3\n",
            "196/196 [==============================] - 50s 257ms/step - loss: 3.7633 - accuracy: 0.1176\n",
            "Epoch 3/3\n",
            "196/196 [==============================] - 51s 261ms/step - loss: 3.5163 - accuracy: 0.1533\n",
            "313/313 [==============================] - 5s 16ms/step - loss: 3.2830 - accuracy: 0.2070\n",
            "0.2070000022649765\n"
          ]
        }
      ]
    },
    {
      "cell_type": "code",
      "source": [
        "import keras\n",
        "keras.datasets.cifar100.load_data(label_mode=\"fine\")\n",
        "(x_train, y_train), (x_test, y_test) = keras.datasets.cifar100.load_data()\n",
        "assert x_train.shape == (50000, 32, 32, 3)\n",
        "assert x_test.shape == (10000, 32, 32, 3)\n",
        "assert y_train.shape == (50000, 1)\n",
        "assert y_test.shape == (10000, 1)\n",
        "\n",
        "\n",
        "from keras.models import Sequential\n",
        "from keras.layers import Conv2D, Dropout\n",
        "from keras.layers import MaxPooling2D, Flatten\n",
        "from keras.layers import Dense\n",
        "from keras.utils import to_categorical\n",
        "\n",
        "y_train = to_categorical(y_train, 100)\n",
        "y_test = to_categorical(y_test, 100)\n",
        "\n",
        "x_train = x_train.astype('float32') / 255\n",
        "x_test = x_test.astype('float32') / 255\n",
        "\n",
        "model4 = Sequential()\n",
        "\n",
        "model4.add(Conv2D(32, (3, 3), activation='relu', input_shape=(32, 32, 3)))\n",
        "model4.add(MaxPooling2D((2, 2)))\n",
        "model4.add(Conv2D(64, (3, 3), activation='relu'))\n",
        "model4.add(Flatten())\n",
        "\n",
        "model4.add(Dense(64, activation='relu'))\n",
        "model4.add(Dropout(0.1))\n",
        "model4.add(Dense(128, activation='relu'))\n",
        "model4.add(Dropout(0.1))\n",
        "model4.add(Dense(64, activation='relu'))\n",
        "model4.add(Dropout(0.1))\n",
        "model4.add(Dense(100, activation='softmax'))\n",
        "\n",
        "model4.compile(optimizer='adam', loss='categorical_crossentropy',metrics=['accuracy'])\n",
        "model4.fit(x_train, y_train, epochs=3, batch_size=256)\n",
        "\n",
        "test_loss, test_acc = model4.evaluate(x_test, y_test)\n",
        "print(test_acc)"
      ],
      "metadata": {
        "colab": {
          "base_uri": "https://localhost:8080/"
        },
        "id": "XzGaCkeVuYZM",
        "outputId": "752e362d-1b5d-43a3-e3ac-e7db6c7f68f3"
      },
      "execution_count": null,
      "outputs": [
        {
          "output_type": "stream",
          "name": "stdout",
          "text": [
            "Epoch 1/3\n",
            "196/196 [==============================] - 52s 261ms/step - loss: 4.3314 - accuracy: 0.0366\n",
            "Epoch 2/3\n",
            "196/196 [==============================] - 53s 272ms/step - loss: 3.8747 - accuracy: 0.0953\n",
            "Epoch 3/3\n",
            "196/196 [==============================] - 58s 294ms/step - loss: 3.6292 - accuracy: 0.1314\n",
            "313/313 [==============================] - 4s 11ms/step - loss: 3.4334 - accuracy: 0.1836\n",
            "0.18359999358654022\n"
          ]
        }
      ]
    },
    {
      "cell_type": "code",
      "source": [
        "model4.save('/content/gdrive/My Drive/models/model4_compet2.keras')"
      ],
      "metadata": {
        "id": "9oUlOxOFvjih"
      },
      "execution_count": null,
      "outputs": []
    },
    {
      "cell_type": "code",
      "source": [
        "import keras\n",
        "keras.datasets.cifar100.load_data(label_mode=\"fine\")\n",
        "(x_train, y_train), (x_test, y_test) = keras.datasets.cifar100.load_data()\n",
        "assert x_train.shape == (50000, 32, 32, 3)\n",
        "assert x_test.shape == (10000, 32, 32, 3)\n",
        "assert y_train.shape == (50000, 1)\n",
        "assert y_test.shape == (10000, 1)\n",
        "\n",
        "\n",
        "from keras.models import Sequential\n",
        "from keras.layers import Conv2D, Dropout\n",
        "from keras.layers import MaxPooling2D, Flatten\n",
        "from keras.layers import Dense\n",
        "from keras.utils import to_categorical\n",
        "\n",
        "y_train = to_categorical(y_train, 100)\n",
        "y_test = to_categorical(y_test, 100)\n",
        "\n",
        "x_train = x_train.astype('float32') / 255\n",
        "x_test = x_test.astype('float32') / 255\n",
        "\n",
        "model5 = Sequential()\n",
        "\n",
        "model5.add(Conv2D(32, (3, 3), activation='relu', input_shape=(32, 32, 3)))\n",
        "model5.add(MaxPooling2D((2, 2)))\n",
        "model5.add(Conv2D(64, (3, 3), activation='relu'))\n",
        "model5.add(Flatten())\n",
        "\n",
        "model5.add(Dense(256, activation='relu'))\n",
        "model5.add(Dropout(0.1))\n",
        "model5.add(Dense(128, activation='relu'))\n",
        "model5.add(Dropout(0.1))\n",
        "model5.add(Dense(128, activation='relu'))\n",
        "model5.add(Dropout(0.1))\n",
        "model5.add(Dense(100, activation='softmax'))\n",
        "\n",
        "model5.compile(optimizer='adam', loss='categorical_crossentropy',metrics=['accuracy'])\n",
        "model5.fit(x_train, y_train, epochs=3, batch_size=256)\n",
        "\n",
        "test_loss, test_acc = model5.evaluate(x_test, y_test)\n",
        "#from google.colab import drive\n",
        "#drive.mount('/content/gdrive')print(test_acc)"
      ],
      "metadata": {
        "colab": {
          "base_uri": "https://localhost:8080/"
        },
        "id": "UQ3WaMFmwUah",
        "outputId": "35ef9a17-bd44-415f-dd54-20151ac1a539"
      },
      "execution_count": null,
      "outputs": [
        {
          "output_type": "stream",
          "name": "stdout",
          "text": [
            "Epoch 1/3\n",
            "196/196 [==============================] - 68s 340ms/step - loss: 4.1147 - accuracy: 0.0722\n",
            "Epoch 2/3\n",
            "196/196 [==============================] - 69s 354ms/step - loss: 3.4666 - accuracy: 0.1700\n",
            "Epoch 3/3\n",
            "196/196 [==============================] - 66s 333ms/step - loss: 3.1544 - accuracy: 0.2279\n",
            "313/313 [==============================] - 6s 19ms/step - loss: 2.9973 - accuracy: 0.2615\n",
            "0.2615000009536743\n"
          ]
        }
      ]
    },
    {
      "cell_type": "code",
      "source": [
        "from google.colab import drive\n",
        "drive.mount('/content/gdrive')\n",
        "model5.save('/content/gdrive/My Drive/models/model5_compet2.keras')"
      ],
      "metadata": {
        "colab": {
          "base_uri": "https://localhost:8080/"
        },
        "id": "q45QpbP_wequ",
        "outputId": "17d87ed1-555c-4062-a406-7f39790ef641"
      },
      "execution_count": null,
      "outputs": [
        {
          "output_type": "stream",
          "name": "stdout",
          "text": [
            "Mounted at /content/gdrive\n"
          ]
        }
      ]
    },
    {
      "cell_type": "code",
      "source": [],
      "metadata": {
        "id": "ETYFW8ouxiNx"
      },
      "execution_count": null,
      "outputs": []
    }
  ]
}